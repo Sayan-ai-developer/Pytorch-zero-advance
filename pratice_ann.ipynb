{
 "cells": [
  {
   "cell_type": "code",
   "execution_count": 1,
   "metadata": {},
   "outputs": [],
   "source": [
    "import torch\n",
    "import torch.nn as nn\n",
    "from torchvision import transforms\n",
    "import torchvision.datasets as datasets\n",
    "from torch.utils.data import DataLoader, Dataset, Subset\n",
    "from torchinfo import summary\n"
   ]
  },
  {
   "cell_type": "code",
   "execution_count": 2,
   "metadata": {},
   "outputs": [],
   "source": [
    "transform = transforms.Compose([\n",
    "    transforms.ToTensor(),\n",
    "])"
   ]
  },
  {
   "cell_type": "code",
   "execution_count": 3,
   "metadata": {},
   "outputs": [],
   "source": [
    "dataset = datasets.FashionMNIST(\n",
    "    root=\"data\",\n",
    "    train=True,\n",
    "    download=True,\n",
    "    transform=transform\n",
    ")"
   ]
  },
  {
   "cell_type": "code",
   "execution_count": 4,
   "metadata": {},
   "outputs": [],
   "source": [
    "subset_indices = list(range(32000))  # First 10,000 samples\n",
    "subset = Subset(dataset, subset_indices)"
   ]
  },
  {
   "cell_type": "code",
   "execution_count": 5,
   "metadata": {},
   "outputs": [],
   "source": [
    "dataloader = DataLoader(subset, batch_size=16, shuffle=True, num_workers=4)"
   ]
  },
  {
   "cell_type": "code",
   "execution_count": 6,
   "metadata": {},
   "outputs": [
    {
     "name": "stdout",
     "output_type": "stream",
     "text": [
      "torch.Size([16, 1, 28, 28])\n",
      "torch.Size([16])\n"
     ]
    }
   ],
   "source": [
    "for x, y in dataloader:\n",
    "    print(x.shape)\n",
    "    print(y.shape)\n",
    "    break"
   ]
  },
  {
   "cell_type": "code",
   "execution_count": 7,
   "metadata": {},
   "outputs": [],
   "source": [
    "class Model(nn.Module):\n",
    "    def __init__(self, num_fetures):\n",
    "        super(Model, self).__init__()\n",
    "        self.architecture = nn.Sequential(\n",
    "            nn.Linear(num_fetures, 128),\n",
    "            nn.ReLU(),\n",
    "            nn.Linear(128, 64),\n",
    "            nn.ReLU(),\n",
    "            nn.Linear(64, 10)\n",
    "        )\n",
    "    \n",
    "    def forward(self, x):\n",
    "        return self.architecture(x)"
   ]
  },
  {
   "cell_type": "code",
   "execution_count": 8,
   "metadata": {},
   "outputs": [
    {
     "data": {
      "text/plain": [
       "==========================================================================================\n",
       "Layer (type:depth-idx)                   Output Shape              Param #\n",
       "==========================================================================================\n",
       "Model                                    [32, 10]                  --\n",
       "├─Sequential: 1-1                        [32, 10]                  --\n",
       "│    └─Linear: 2-1                       [32, 128]                 100,480\n",
       "│    └─ReLU: 2-2                         [32, 128]                 --\n",
       "│    └─Linear: 2-3                       [32, 64]                  8,256\n",
       "│    └─ReLU: 2-4                         [32, 64]                  --\n",
       "│    └─Linear: 2-5                       [32, 10]                  650\n",
       "==========================================================================================\n",
       "Total params: 109,386\n",
       "Trainable params: 109,386\n",
       "Non-trainable params: 0\n",
       "Total mult-adds (Units.MEGABYTES): 3.50\n",
       "==========================================================================================\n",
       "Input size (MB): 0.10\n",
       "Forward/backward pass size (MB): 0.05\n",
       "Params size (MB): 0.44\n",
       "Estimated Total Size (MB): 0.59\n",
       "=========================================================================================="
      ]
     },
     "execution_count": 8,
     "metadata": {},
     "output_type": "execute_result"
    }
   ],
   "source": [
    "model = Model(28*28)\n",
    "summary(model, input_size=(32, 28*28), device='cpu')"
   ]
  },
  {
   "cell_type": "code",
   "execution_count": 9,
   "metadata": {},
   "outputs": [],
   "source": [
    "loss = nn.CrossEntropyLoss()\n",
    "optimizer = torch.optim.Adam(model.parameters(), lr=0.001)"
   ]
  },
  {
   "cell_type": "code",
   "execution_count": 10,
   "metadata": {},
   "outputs": [
    {
     "name": "stdout",
     "output_type": "stream",
     "text": [
      "Epoch: 1, Loss: 0.6895366907119751\n",
      "Epoch: 2, Loss: 0.5064442753791809\n",
      "Epoch: 3, Loss: 0.24819786846637726\n",
      "Epoch: 4, Loss: 0.3610962927341461\n",
      "Epoch: 5, Loss: 0.20664046704769135\n",
      "Epoch: 6, Loss: 0.28783607482910156\n",
      "Epoch: 7, Loss: 0.23907548189163208\n",
      "Epoch: 8, Loss: 0.005247881170362234\n",
      "Epoch: 9, Loss: 0.1799817532300949\n",
      "Epoch: 10, Loss: 0.11766299605369568\n",
      "Epoch: 11, Loss: 0.1049288809299469\n",
      "Epoch: 12, Loss: 0.11913813650608063\n",
      "Epoch: 13, Loss: 0.1537732183933258\n",
      "Epoch: 14, Loss: 0.3994249999523163\n",
      "Epoch: 15, Loss: 0.19425919651985168\n",
      "Epoch: 16, Loss: 0.28857991099357605\n",
      "Epoch: 17, Loss: 0.24349170923233032\n",
      "Epoch: 18, Loss: 0.20460280776023865\n",
      "Epoch: 19, Loss: 0.08766771107912064\n",
      "Epoch: 20, Loss: 0.10110493004322052\n",
      "Epoch: 21, Loss: 0.16104327142238617\n",
      "Epoch: 22, Loss: 0.13049300014972687\n",
      "Epoch: 23, Loss: 0.4752989113330841\n",
      "Epoch: 24, Loss: 0.23587600886821747\n",
      "Epoch: 25, Loss: 0.09198357164859772\n",
      "Epoch: 26, Loss: 0.3257486820220947\n",
      "Epoch: 27, Loss: 0.1749957650899887\n",
      "Epoch: 28, Loss: 0.2568908929824829\n",
      "Epoch: 29, Loss: 0.3912992775440216\n",
      "Epoch: 30, Loss: 0.42293551564216614\n",
      "Epoch: 31, Loss: 0.016068968921899796\n",
      "Epoch: 32, Loss: 0.0009916449198499322\n",
      "Epoch: 33, Loss: 0.09962603449821472\n",
      "Epoch: 34, Loss: 0.5874958634376526\n",
      "Epoch: 35, Loss: 0.0024233676958829165\n",
      "Epoch: 36, Loss: 0.21912220120429993\n",
      "Epoch: 37, Loss: 0.3182375431060791\n",
      "Epoch: 38, Loss: 0.2382006198167801\n",
      "Epoch: 39, Loss: 0.6923638582229614\n",
      "Epoch: 40, Loss: 0.08355983346700668\n",
      "Epoch: 41, Loss: 0.06162547692656517\n",
      "Epoch: 42, Loss: 0.025931168347597122\n",
      "Epoch: 43, Loss: 0.31267857551574707\n",
      "Epoch: 44, Loss: 0.03511164337396622\n",
      "Epoch: 45, Loss: 0.016377994790673256\n",
      "Epoch: 46, Loss: 0.001986485905945301\n",
      "Epoch: 47, Loss: 0.059231024235486984\n",
      "Epoch: 48, Loss: 0.08274512737989426\n",
      "Epoch: 49, Loss: 0.009461399167776108\n",
      "Epoch: 50, Loss: 0.020895693451166153\n",
      "Epoch: 51, Loss: 0.2529447376728058\n",
      "Epoch: 52, Loss: 0.011386802420020103\n",
      "Epoch: 53, Loss: 0.014924726448953152\n",
      "Epoch: 54, Loss: 0.0767902210354805\n",
      "Epoch: 55, Loss: 0.05423016473650932\n",
      "Epoch: 56, Loss: 0.00392948929220438\n",
      "Epoch: 57, Loss: 0.27120375633239746\n",
      "Epoch: 58, Loss: 0.021958008408546448\n",
      "Epoch: 59, Loss: 0.060300540179014206\n",
      "Epoch: 60, Loss: 0.024779509752988815\n",
      "Epoch: 61, Loss: 0.018492311239242554\n",
      "Epoch: 62, Loss: 0.008852126076817513\n",
      "Epoch: 63, Loss: 8.636502752779052e-05\n",
      "Epoch: 64, Loss: 0.24563845992088318\n",
      "Epoch: 65, Loss: 0.2186250537633896\n",
      "Epoch: 66, Loss: 0.10908674448728561\n",
      "Epoch: 67, Loss: 0.015062326565384865\n",
      "Epoch: 68, Loss: 0.06435441225767136\n",
      "Epoch: 69, Loss: 0.11947085708379745\n",
      "Epoch: 70, Loss: 0.1039358451962471\n",
      "Epoch: 71, Loss: 0.07950016856193542\n",
      "Epoch: 72, Loss: 0.03038686141371727\n",
      "Epoch: 73, Loss: 0.07004813849925995\n",
      "Epoch: 74, Loss: 0.25495684146881104\n",
      "Epoch: 75, Loss: 0.0974508598446846\n",
      "Epoch: 76, Loss: 0.013277653604745865\n",
      "Epoch: 77, Loss: 0.019667858257889748\n",
      "Epoch: 78, Loss: 0.005359180271625519\n",
      "Epoch: 79, Loss: 0.11953743547201157\n",
      "Epoch: 80, Loss: 0.014656199142336845\n",
      "Epoch: 81, Loss: 0.010086835362017155\n",
      "Epoch: 82, Loss: 0.16068676114082336\n",
      "Epoch: 83, Loss: 0.06897249072790146\n",
      "Epoch: 84, Loss: 0.0020093582570552826\n",
      "Epoch: 85, Loss: 0.0004951962037011981\n",
      "Epoch: 86, Loss: 0.016419045627117157\n",
      "Epoch: 87, Loss: 0.00038680306170135736\n",
      "Epoch: 88, Loss: 0.004838456865400076\n",
      "Epoch: 89, Loss: 0.0011794230667874217\n",
      "Epoch: 90, Loss: 0.16970108449459076\n",
      "Epoch: 91, Loss: 0.19155363738536835\n",
      "Epoch: 92, Loss: 0.10343022644519806\n",
      "Epoch: 93, Loss: 0.010705065913498402\n",
      "Epoch: 94, Loss: 0.006318550556898117\n",
      "Epoch: 95, Loss: 0.09968182444572449\n",
      "Epoch: 96, Loss: 0.04556597024202347\n",
      "Epoch: 97, Loss: 0.008472137153148651\n",
      "Epoch: 98, Loss: 0.008288711309432983\n",
      "Epoch: 99, Loss: 0.15675736963748932\n",
      "Epoch: 100, Loss: 0.0002800710790324956\n"
     ]
    }
   ],
   "source": [
    "epochs = 100\n",
    "for epoch in range(epochs):\n",
    "    for x, y in dataloader:\n",
    "        x = x.reshape(-1, 28*28)\n",
    "        y_hat = model(x)\n",
    "        l = loss(y_hat, y)\n",
    "        optimizer.zero_grad()\n",
    "        l.backward()\n",
    "        optimizer.step()\n",
    "    print(f'Epoch: {epoch+1}, Loss: {l.item()}')"
   ]
  },
  {
   "cell_type": "code",
   "execution_count": null,
   "metadata": {},
   "outputs": [],
   "source": []
  },
  {
   "cell_type": "code",
   "execution_count": null,
   "metadata": {},
   "outputs": [],
   "source": []
  },
  {
   "cell_type": "code",
   "execution_count": null,
   "metadata": {},
   "outputs": [],
   "source": []
  },
  {
   "cell_type": "code",
   "execution_count": null,
   "metadata": {},
   "outputs": [],
   "source": []
  },
  {
   "cell_type": "code",
   "execution_count": null,
   "metadata": {},
   "outputs": [],
   "source": []
  },
  {
   "cell_type": "code",
   "execution_count": null,
   "metadata": {},
   "outputs": [],
   "source": []
  },
  {
   "cell_type": "code",
   "execution_count": null,
   "metadata": {},
   "outputs": [],
   "source": []
  }
 ],
 "metadata": {
  "kernelspec": {
   "display_name": "venv",
   "language": "python",
   "name": "python3"
  },
  "language_info": {
   "codemirror_mode": {
    "name": "ipython",
    "version": 3
   },
   "file_extension": ".py",
   "mimetype": "text/x-python",
   "name": "python",
   "nbconvert_exporter": "python",
   "pygments_lexer": "ipython3",
   "version": "3.12.3"
  }
 },
 "nbformat": 4,
 "nbformat_minor": 2
}
