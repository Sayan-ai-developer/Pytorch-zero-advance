{
 "cells": [
  {
   "cell_type": "code",
   "execution_count": 1,
   "metadata": {},
   "outputs": [],
   "source": [
    "import torch\n",
    "import torch.nn as nn\n",
    "import torch.optim as optim\n",
    "import optuna\n",
    "from torchvision import datasets, transforms\n",
    "from torch.utils.data import DataLoader"
   ]
  },
  {
   "cell_type": "code",
   "execution_count": 2,
   "metadata": {},
   "outputs": [],
   "source": [
    "class Net(nn.Module):\n",
    "    def __init__(self, input_dim: int, output_dim: int, num_layers_hidden1: int, hidden_dim1: int, num_layers_hidden2: int, hidden_dim2: int) -> None:\n",
    "        super(Net, self).__init__()\n",
    "        layers = []\n",
    "        layers.append(nn.Linear(input_dim, hidden_dim1))\n",
    "        layers.append(nn.ReLU())\n",
    "\n",
    "        for _ in range(num_layers_hidden1 - 1):\n",
    "            layers.append(nn.Linear(hidden_dim1, hidden_dim1))\n",
    "            layers.append(nn.ReLU())\n",
    "        \n",
    "        layers.append(nn.Linear(hidden_dim1, hidden_dim2))  # Ensure transition\n",
    "        layers.append(nn.ReLU())\n",
    "\n",
    "        for _ in range(num_layers_hidden2 - 1):  # Add more layers dynamically\n",
    "            layers.append(nn.Linear(hidden_dim2, hidden_dim2))\n",
    "            layers.append(nn.ReLU())\n",
    "\n",
    "        layers.append(nn.Linear(hidden_dim2, output_dim))  # Final output layer\n",
    "        self.network = nn.Sequential(*layers)\n",
    "\n",
    "    def forward(self, x: torch.Tensor) -> torch.Tensor:\n",
    "        x = x.view(-1, 28 * 28)\n",
    "        return self.network(x)"
   ]
  },
  {
   "cell_type": "code",
   "execution_count": 3,
   "metadata": {},
   "outputs": [],
   "source": [
    "\n",
    "def objective(trial):\n",
    "    # Optimize number of hidden layers (1 to 5)\n",
    "    num_layers_hidden1 = trial.suggest_int(\"num_layers_hidden1\", 1, 5)\n",
    "    num_layers_hidden2 = trial.suggest_int(\"num_layers_hidden2\", 1, 5)\n",
    "    hidden_dim1 = trial.suggest_int(\"hidden_dim1\", 32, 64)\n",
    "    hidden_dim2 = trial.suggest_int(\"hidden_dim2\", 128, 256)\n",
    "    lr = trial.suggest_loguniform(\"lr\", 1e-4, 1e-2)\n",
    "\n",
    "    # Load dataset\n",
    "    transform = transforms.ToTensor()\n",
    "    train_dataset = datasets.MNIST(root=\"./data\", train=True, transform=transform, download=True)\n",
    "    train_loader = DataLoader(train_dataset, batch_size=64, shuffle=True)\n",
    "\n",
    "    # Create the model\n",
    "    model = Net(input_dim=28*28, output_dim=10, num_layers_hidden1=num_layers_hidden1, hidden_dim1=hidden_dim1,\n",
    "                num_layers_hidden2=num_layers_hidden2, hidden_dim2=hidden_dim2)\n",
    "    criterion = nn.CrossEntropyLoss()\n",
    "    optimizer = optim.Adam(model.parameters(), lr=lr)\n",
    "\n",
    "    # Training loop (1 epoch)\n",
    "    model.train()\n",
    "    total_loss = 0\n",
    "    for batch_idx, (data, target) in enumerate(train_loader):\n",
    "        optimizer.zero_grad()\n",
    "        output = model(data)\n",
    "        loss = criterion(output, target)\n",
    "        loss.backward()\n",
    "        optimizer.step()\n",
    "        total_loss += loss.item()\n",
    "        if batch_idx >= 100:  # Limit iterations for speed\n",
    "            break\n",
    "\n",
    "    return total_loss / len(train_loader)\n"
   ]
  },
  {
   "cell_type": "code",
   "execution_count": null,
   "metadata": {},
   "outputs": [
    {
     "name": "stderr",
     "output_type": "stream",
     "text": [
      "[I 2025-03-27 00:43:14,922] A new study created in memory with name: no-name-c9c8de7e-596e-4f71-99e2-86cceb969f0c\n",
      "/tmp/ipykernel_5055/954387824.py:7: FutureWarning: suggest_loguniform has been deprecated in v3.0.0. This feature will be removed in v6.0.0. See https://github.com/optuna/optuna/releases/tag/v3.0.0. Use suggest_float(..., log=True) instead.\n",
      "  lr = trial.suggest_loguniform(\"lr\", 1e-4, 1e-2)\n",
      "[I 2025-03-27 00:43:17,279] Trial 0 finished with value: 0.2435633447378683 and parameters: {'num_layers_hidden1': 4, 'num_layers_hidden2': 4, 'hidden_dim1': 45, 'hidden_dim2': 192, 'lr': 0.00020211460735154193}. Best is trial 0 with value: 0.2435633447378683.\n",
      "[I 2025-03-27 00:43:19,744] Trial 1 finished with value: 0.11008380391577413 and parameters: {'num_layers_hidden1': 4, 'num_layers_hidden2': 1, 'hidden_dim1': 44, 'hidden_dim2': 221, 'lr': 0.005098579499356211}. Best is trial 1 with value: 0.11008380391577413.\n",
      "[I 2025-03-27 00:43:22,321] Trial 2 finished with value: 0.13979750147252196 and parameters: {'num_layers_hidden1': 2, 'num_layers_hidden2': 4, 'hidden_dim1': 60, 'hidden_dim2': 229, 'lr': 0.007830167847039394}. Best is trial 1 with value: 0.11008380391577413.\n",
      "[I 2025-03-27 00:43:24,796] Trial 3 finished with value: 0.18172397332659154 and parameters: {'num_layers_hidden1': 3, 'num_layers_hidden2': 5, 'hidden_dim1': 48, 'hidden_dim2': 207, 'lr': 0.0019141296143527515}. Best is trial 1 with value: 0.11008380391577413.\n",
      "[I 2025-03-27 00:43:27,010] Trial 4 finished with value: 0.24679042205119184 and parameters: {'num_layers_hidden1': 3, 'num_layers_hidden2': 4, 'hidden_dim1': 47, 'hidden_dim2': 210, 'lr': 0.0001171610484987495}. Best is trial 1 with value: 0.11008380391577413.\n",
      "[I 2025-03-27 00:43:29,350] Trial 5 finished with value: 0.22812088758452362 and parameters: {'num_layers_hidden1': 2, 'num_layers_hidden2': 4, 'hidden_dim1': 38, 'hidden_dim2': 253, 'lr': 0.00017302504461242833}. Best is trial 1 with value: 0.11008380391577413.\n",
      "[I 2025-03-27 00:43:31,245] Trial 6 finished with value: 0.2324789468921832 and parameters: {'num_layers_hidden1': 1, 'num_layers_hidden2': 2, 'hidden_dim1': 57, 'hidden_dim2': 204, 'lr': 0.00012248867482543888}. Best is trial 1 with value: 0.11008380391577413.\n",
      "[I 2025-03-27 00:43:33,552] Trial 7 finished with value: 0.13077312599875526 and parameters: {'num_layers_hidden1': 2, 'num_layers_hidden2': 5, 'hidden_dim1': 45, 'hidden_dim2': 225, 'lr': 0.004232161292115534}. Best is trial 1 with value: 0.11008380391577413.\n",
      "[I 2025-03-27 00:43:35,314] Trial 8 finished with value: 0.24540920272819014 and parameters: {'num_layers_hidden1': 5, 'num_layers_hidden2': 2, 'hidden_dim1': 35, 'hidden_dim2': 185, 'lr': 0.00023799416868346663}. Best is trial 1 with value: 0.11008380391577413.\n",
      "[I 2025-03-27 00:43:37,350] Trial 9 finished with value: 0.12314724795091381 and parameters: {'num_layers_hidden1': 1, 'num_layers_hidden2': 5, 'hidden_dim1': 58, 'hidden_dim2': 165, 'lr': 0.003070122006211592}. Best is trial 1 with value: 0.11008380391577413.\n",
      "[I 2025-03-27 00:43:39,287] Trial 10 finished with value: 0.20970045058712014 and parameters: {'num_layers_hidden1': 5, 'num_layers_hidden2': 1, 'hidden_dim1': 39, 'hidden_dim2': 142, 'lr': 0.0006642026992873214}. Best is trial 1 with value: 0.11008380391577413.\n",
      "[I 2025-03-27 00:43:41,116] Trial 11 finished with value: 0.12171485200365469 and parameters: {'num_layers_hidden1': 4, 'num_layers_hidden2': 1, 'hidden_dim1': 55, 'hidden_dim2': 161, 'lr': 0.0025221076229652254}. Best is trial 1 with value: 0.11008380391577413.\n",
      "[I 2025-03-27 00:43:42,729] Trial 12 finished with value: 0.1602695000959612 and parameters: {'num_layers_hidden1': 4, 'num_layers_hidden2': 1, 'hidden_dim1': 52, 'hidden_dim2': 134, 'lr': 0.0010807407487433837}. Best is trial 1 with value: 0.11008380391577413.\n",
      "[I 2025-03-27 00:43:44,656] Trial 13 finished with value: 0.1526883374145036 and parameters: {'num_layers_hidden1': 4, 'num_layers_hidden2': 2, 'hidden_dim1': 64, 'hidden_dim2': 166, 'lr': 0.009131347319477862}. Best is trial 1 with value: 0.11008380391577413.\n",
      "[I 2025-03-27 00:43:46,331] Trial 14 finished with value: 0.1133341751436689 and parameters: {'num_layers_hidden1': 4, 'num_layers_hidden2': 1, 'hidden_dim1': 53, 'hidden_dim2': 163, 'lr': 0.00418725073146587}. Best is trial 1 with value: 0.11008380391577413.\n",
      "[I 2025-03-27 00:43:48,597] Trial 15 finished with value: 0.16611540984751574 and parameters: {'num_layers_hidden1': 5, 'num_layers_hidden2': 3, 'hidden_dim1': 52, 'hidden_dim2': 252, 'lr': 0.00440369560073522}. Best is trial 1 with value: 0.11008380391577413.\n",
      "[I 2025-03-27 00:43:50,348] Trial 16 finished with value: 0.15827276578335875 and parameters: {'num_layers_hidden1': 3, 'num_layers_hidden2': 2, 'hidden_dim1': 42, 'hidden_dim2': 180, 'lr': 0.0009959028163196366}. Best is trial 1 with value: 0.11008380391577413.\n",
      "[I 2025-03-27 00:43:52,168] Trial 17 finished with value: 0.1152006687957849 and parameters: {'num_layers_hidden1': 4, 'num_layers_hidden2': 1, 'hidden_dim1': 53, 'hidden_dim2': 234, 'lr': 0.005005662073331897}. Best is trial 1 with value: 0.11008380391577413.\n",
      "[I 2025-03-27 00:43:54,013] Trial 18 finished with value: 0.15423962994933382 and parameters: {'num_layers_hidden1': 3, 'num_layers_hidden2': 3, 'hidden_dim1': 49, 'hidden_dim2': 154, 'lr': 0.0018261220959896198}. Best is trial 1 with value: 0.11008380391577413.\n",
      "[I 2025-03-27 00:43:55,663] Trial 19 finished with value: 0.23507394020491318 and parameters: {'num_layers_hidden1': 5, 'num_layers_hidden2': 1, 'hidden_dim1': 32, 'hidden_dim2': 177, 'lr': 0.0004427084479743492}. Best is trial 1 with value: 0.11008380391577413.\n",
      "[I 2025-03-27 00:43:57,563] Trial 20 finished with value: 0.11847668879830253 and parameters: {'num_layers_hidden1': 4, 'num_layers_hidden2': 2, 'hidden_dim1': 43, 'hidden_dim2': 219, 'lr': 0.00651669169961637}. Best is trial 1 with value: 0.11008380391577413.\n",
      "[I 2025-03-27 00:43:59,314] Trial 21 finished with value: 0.09798098566816814 and parameters: {'num_layers_hidden1': 4, 'num_layers_hidden2': 1, 'hidden_dim1': 52, 'hidden_dim2': 236, 'lr': 0.005307484666133615}. Best is trial 21 with value: 0.09798098566816814.\n",
      "[I 2025-03-27 00:44:00,900] Trial 22 finished with value: 0.10917205428645047 and parameters: {'num_layers_hidden1': 4, 'num_layers_hidden2': 1, 'hidden_dim1': 50, 'hidden_dim2': 239, 'lr': 0.0035720412642558175}. Best is trial 21 with value: 0.09798098566816814.\n",
      "[I 2025-03-27 00:44:02,834] Trial 23 finished with value: 0.1334892036055705 and parameters: {'num_layers_hidden1': 5, 'num_layers_hidden2': 1, 'hidden_dim1': 50, 'hidden_dim2': 241, 'lr': 0.0028245666036845075}. Best is trial 21 with value: 0.09798098566816814.\n",
      "[I 2025-03-27 00:44:04,765] Trial 24 finished with value: 0.13038946414934294 and parameters: {'num_layers_hidden1': 4, 'num_layers_hidden2': 2, 'hidden_dim1': 40, 'hidden_dim2': 242, 'lr': 0.006221205463483111}. Best is trial 21 with value: 0.09798098566816814.\n",
      "[I 2025-03-27 00:44:06,851] Trial 25 finished with value: 0.1323883096292329 and parameters: {'num_layers_hidden1': 3, 'num_layers_hidden2': 3, 'hidden_dim1': 46, 'hidden_dim2': 218, 'lr': 0.0020570210159051973}. Best is trial 21 with value: 0.09798098566816814.\n",
      "[I 2025-03-27 00:44:08,662] Trial 26 finished with value: 0.10145765708199442 and parameters: {'num_layers_hidden1': 4, 'num_layers_hidden2': 1, 'hidden_dim1': 50, 'hidden_dim2': 242, 'lr': 0.00972766142897183}. Best is trial 21 with value: 0.09798098566816814.\n",
      "[I 2025-03-27 00:44:10,754] Trial 27 finished with value: 0.15979593839726722 and parameters: {'num_layers_hidden1': 5, 'num_layers_hidden2': 2, 'hidden_dim1': 50, 'hidden_dim2': 242, 'lr': 0.009119782103361005}. Best is trial 21 with value: 0.09798098566816814.\n",
      "[I 2025-03-27 00:44:12,510] Trial 28 finished with value: 0.1245584858696598 and parameters: {'num_layers_hidden1': 3, 'num_layers_hidden2': 1, 'hidden_dim1': 55, 'hidden_dim2': 236, 'lr': 0.0013260317948300046}. Best is trial 21 with value: 0.09798098566816814.\n",
      "[I 2025-03-27 00:44:14,760] Trial 29 finished with value: 0.16500485801239256 and parameters: {'num_layers_hidden1': 4, 'num_layers_hidden2': 3, 'hidden_dim1': 62, 'hidden_dim2': 256, 'lr': 0.009826178602881375}. Best is trial 21 with value: 0.09798098566816814.\n",
      "[I 2025-03-27 00:44:16,374] Trial 30 finished with value: 0.10781197710586254 and parameters: {'num_layers_hidden1': 4, 'num_layers_hidden2': 1, 'hidden_dim1': 56, 'hidden_dim2': 199, 'lr': 0.003465585672868971}. Best is trial 21 with value: 0.09798098566816814.\n",
      "[I 2025-03-27 00:44:18,141] Trial 31 finished with value: 0.11333517472881244 and parameters: {'num_layers_hidden1': 4, 'num_layers_hidden2': 1, 'hidden_dim1': 56, 'hidden_dim2': 198, 'lr': 0.003410735899006342}. Best is trial 21 with value: 0.09798098566816814.\n",
      "[I 2025-03-27 00:44:19,970] Trial 32 finished with value: 0.10398912798367076 and parameters: {'num_layers_hidden1': 4, 'num_layers_hidden2': 1, 'hidden_dim1': 60, 'hidden_dim2': 248, 'lr': 0.005964570455439607}. Best is trial 21 with value: 0.09798098566816814.\n",
      "[I 2025-03-27 00:44:21,786] Trial 33 finished with value: 0.10751400665560765 and parameters: {'num_layers_hidden1': 4, 'num_layers_hidden2': 1, 'hidden_dim1': 59, 'hidden_dim2': 228, 'lr': 0.005785830747702071}. Best is trial 21 with value: 0.09798098566816814.\n",
      "[I 2025-03-27 00:44:23,910] Trial 34 finished with value: 0.16655799517753536 and parameters: {'num_layers_hidden1': 5, 'num_layers_hidden2': 2, 'hidden_dim1': 59, 'hidden_dim2': 231, 'lr': 0.006551751958076051}. Best is trial 21 with value: 0.09798098566816814.\n",
      "[I 2025-03-27 00:44:25,927] Trial 35 finished with value: 0.08837960596913214 and parameters: {'num_layers_hidden1': 3, 'num_layers_hidden2': 1, 'hidden_dim1': 60, 'hidden_dim2': 250, 'lr': 0.006679755423918707}. Best is trial 35 with value: 0.08837960596913214.\n",
      "[I 2025-03-27 00:44:27,720] Trial 36 finished with value: 0.08453786463689195 and parameters: {'num_layers_hidden1': 3, 'num_layers_hidden2': 1, 'hidden_dim1': 61, 'hidden_dim2': 248, 'lr': 0.007774390804113325}. Best is trial 36 with value: 0.08453786463689195.\n",
      "[I 2025-03-27 00:44:29,688] Trial 37 finished with value: 0.0948502258069988 and parameters: {'num_layers_hidden1': 2, 'num_layers_hidden2': 2, 'hidden_dim1': 63, 'hidden_dim2': 247, 'lr': 0.008913856970300378}. Best is trial 36 with value: 0.08453786463689195.\n",
      "[I 2025-03-27 00:44:31,582] Trial 38 finished with value: 0.09017820325868725 and parameters: {'num_layers_hidden1': 2, 'num_layers_hidden2': 2, 'hidden_dim1': 64, 'hidden_dim2': 247, 'lr': 0.00828306554818512}. Best is trial 36 with value: 0.08453786463689195.\n",
      "[I 2025-03-27 00:44:33,825] Trial 39 finished with value: 0.12005281511908655 and parameters: {'num_layers_hidden1': 2, 'num_layers_hidden2': 3, 'hidden_dim1': 64, 'hidden_dim2': 249, 'lr': 0.007608798232749079}. Best is trial 36 with value: 0.08453786463689195.\n",
      "[I 2025-03-27 00:44:35,734] Trial 40 finished with value: 0.08567459614419226 and parameters: {'num_layers_hidden1': 2, 'num_layers_hidden2': 2, 'hidden_dim1': 61, 'hidden_dim2': 214, 'lr': 0.007709219672053177}. Best is trial 36 with value: 0.08453786463689195.\n",
      "[I 2025-03-27 00:44:37,658] Trial 41 finished with value: 0.08278922047188032 and parameters: {'num_layers_hidden1': 2, 'num_layers_hidden2': 2, 'hidden_dim1': 62, 'hidden_dim2': 214, 'lr': 0.0077328650697547395}. Best is trial 41 with value: 0.08278922047188032.\n",
      "[I 2025-03-27 00:44:39,555] Trial 42 finished with value: 0.07948692325653552 and parameters: {'num_layers_hidden1': 2, 'num_layers_hidden2': 2, 'hidden_dim1': 61, 'hidden_dim2': 208, 'lr': 0.007569194627335782}. Best is trial 42 with value: 0.07948692325653552.\n",
      "[I 2025-03-27 00:44:41,647] Trial 43 finished with value: 0.07428022542360749 and parameters: {'num_layers_hidden1': 1, 'num_layers_hidden2': 2, 'hidden_dim1': 61, 'hidden_dim2': 214, 'lr': 0.006920807409934551}. Best is trial 43 with value: 0.07428022542360749.\n",
      "[I 2025-03-27 00:44:43,432] Trial 44 finished with value: 0.0700396584676527 and parameters: {'num_layers_hidden1': 1, 'num_layers_hidden2': 2, 'hidden_dim1': 62, 'hidden_dim2': 212, 'lr': 0.004485044657821902}. Best is trial 44 with value: 0.0700396584676527.\n",
      "[I 2025-03-27 00:44:45,295] Trial 45 finished with value: 0.0820907538633611 and parameters: {'num_layers_hidden1': 1, 'num_layers_hidden2': 3, 'hidden_dim1': 62, 'hidden_dim2': 193, 'lr': 0.00462198433346212}. Best is trial 44 with value: 0.0700396584676527.\n",
      "[I 2025-03-27 00:44:47,307] Trial 46 finished with value: 0.0982897884365338 and parameters: {'num_layers_hidden1': 1, 'num_layers_hidden2': 4, 'hidden_dim1': 62, 'hidden_dim2': 210, 'lr': 0.0043442936316418655}. Best is trial 44 with value: 0.0700396584676527.\n",
      "[I 2025-03-27 00:44:49,257] Trial 47 finished with value: 0.17409932816714874 and parameters: {'num_layers_hidden1': 1, 'num_layers_hidden2': 3, 'hidden_dim1': 58, 'hidden_dim2': 189, 'lr': 0.00031756892184395816}. Best is trial 44 with value: 0.0700396584676527.\n",
      "[I 2025-03-27 00:44:51,251] Trial 48 finished with value: 0.08452547918250566 and parameters: {'num_layers_hidden1': 1, 'num_layers_hidden2': 3, 'hidden_dim1': 62, 'hidden_dim2': 206, 'lr': 0.002333996171968712}. Best is trial 44 with value: 0.0700396584676527.\n",
      "[I 2025-03-27 00:44:53,337] Trial 49 finished with value: 0.07089952827453105 and parameters: {'num_layers_hidden1': 1, 'num_layers_hidden2': 2, 'hidden_dim1': 60, 'hidden_dim2': 199, 'lr': 0.004962876329911815}. Best is trial 44 with value: 0.0700396584676527.\n",
      "[I 2025-03-27 00:44:55,176] Trial 50 finished with value: 0.06831028679413582 and parameters: {'num_layers_hidden1': 1, 'num_layers_hidden2': 2, 'hidden_dim1': 58, 'hidden_dim2': 195, 'lr': 0.0047114641747801915}. Best is trial 50 with value: 0.06831028679413582.\n",
      "[I 2025-03-27 00:44:56,912] Trial 51 finished with value: 0.07098086596107178 and parameters: {'num_layers_hidden1': 1, 'num_layers_hidden2': 2, 'hidden_dim1': 58, 'hidden_dim2': 198, 'lr': 0.004858614369480624}. Best is trial 50 with value: 0.06831028679413582.\n",
      "[I 2025-03-27 00:44:58,724] Trial 52 finished with value: 0.0738043338536962 and parameters: {'num_layers_hidden1': 1, 'num_layers_hidden2': 2, 'hidden_dim1': 58, 'hidden_dim2': 200, 'lr': 0.003761944480580123}. Best is trial 50 with value: 0.06831028679413582.\n",
      "[I 2025-03-27 00:45:00,628] Trial 53 finished with value: 0.09311172293066215 and parameters: {'num_layers_hidden1': 1, 'num_layers_hidden2': 2, 'hidden_dim1': 57, 'hidden_dim2': 201, 'lr': 0.0015993597030757286}. Best is trial 50 with value: 0.06831028679413582.\n",
      "[I 2025-03-27 00:45:02,332] Trial 54 finished with value: 0.07748792482528097 and parameters: {'num_layers_hidden1': 1, 'num_layers_hidden2': 2, 'hidden_dim1': 58, 'hidden_dim2': 193, 'lr': 0.003862123324514168}. Best is trial 50 with value: 0.06831028679413582.\n",
      "[I 2025-03-27 00:45:04,128] Trial 55 finished with value: 0.08202770198268422 and parameters: {'num_layers_hidden1': 1, 'num_layers_hidden2': 2, 'hidden_dim1': 55, 'hidden_dim2': 183, 'lr': 0.0028767083631868074}. Best is trial 50 with value: 0.06831028679413582.\n",
      "[I 2025-03-27 00:45:06,184] Trial 56 finished with value: 0.07645300249936485 and parameters: {'num_layers_hidden1': 1, 'num_layers_hidden2': 2, 'hidden_dim1': 59, 'hidden_dim2': 223, 'lr': 0.0024850134963473125}. Best is trial 50 with value: 0.06831028679413582.\n",
      "[I 2025-03-27 00:45:07,908] Trial 57 finished with value: 0.072518492812541 and parameters: {'num_layers_hidden1': 1, 'num_layers_hidden2': 2, 'hidden_dim1': 54, 'hidden_dim2': 175, 'lr': 0.005279366243429065}. Best is trial 50 with value: 0.06831028679413582.\n",
      "[I 2025-03-27 00:45:09,593] Trial 58 finished with value: 0.070562528251712 and parameters: {'num_layers_hidden1': 1, 'num_layers_hidden2': 2, 'hidden_dim1': 54, 'hidden_dim2': 171, 'lr': 0.005502393015331896}. Best is trial 50 with value: 0.06831028679413582.\n",
      "[I 2025-03-27 00:45:11,247] Trial 59 finished with value: 0.07264311502038288 and parameters: {'num_layers_hidden1': 1, 'num_layers_hidden2': 2, 'hidden_dim1': 53, 'hidden_dim2': 176, 'lr': 0.004679980206560849}. Best is trial 50 with value: 0.06831028679413582.\n",
      "[I 2025-03-27 00:45:13,088] Trial 60 finished with value: 0.08245632359023287 and parameters: {'num_layers_hidden1': 1, 'num_layers_hidden2': 3, 'hidden_dim1': 54, 'hidden_dim2': 175, 'lr': 0.005318042946634513}. Best is trial 50 with value: 0.06831028679413582.\n",
      "[I 2025-03-27 00:45:14,713] Trial 61 finished with value: 0.07434094157109637 and parameters: {'num_layers_hidden1': 1, 'num_layers_hidden2': 2, 'hidden_dim1': 53, 'hidden_dim2': 172, 'lr': 0.004745816407315486}. Best is trial 50 with value: 0.06831028679413582.\n",
      "[I 2025-03-27 00:45:16,322] Trial 62 finished with value: 0.08076031134326829 and parameters: {'num_layers_hidden1': 1, 'num_layers_hidden2': 2, 'hidden_dim1': 56, 'hidden_dim2': 153, 'lr': 0.003022613330839798}. Best is trial 50 with value: 0.06831028679413582.\n",
      "[I 2025-03-27 00:45:18,110] Trial 63 finished with value: 0.07269784546038235 and parameters: {'num_layers_hidden1': 1, 'num_layers_hidden2': 2, 'hidden_dim1': 57, 'hidden_dim2': 169, 'lr': 0.005235204140034573}. Best is trial 50 with value: 0.06831028679413582.\n",
      "[I 2025-03-27 00:45:19,682] Trial 64 finished with value: 0.07820818595477004 and parameters: {'num_layers_hidden1': 1, 'num_layers_hidden2': 2, 'hidden_dim1': 48, 'hidden_dim2': 185, 'lr': 0.004161716684184649}. Best is trial 50 with value: 0.06831028679413582.\n",
      "[I 2025-03-27 00:45:21,321] Trial 65 finished with value: 0.12862931884555165 and parameters: {'num_layers_hidden1': 1, 'num_layers_hidden2': 2, 'hidden_dim1': 54, 'hidden_dim2': 189, 'lr': 0.0006925335137262654}. Best is trial 50 with value: 0.06831028679413582.\n",
      "[I 2025-03-27 00:45:22,883] Trial 66 finished with value: 0.08094730282198391 and parameters: {'num_layers_hidden1': 1, 'num_layers_hidden2': 2, 'hidden_dim1': 51, 'hidden_dim2': 154, 'lr': 0.0033107195260770146}. Best is trial 50 with value: 0.06831028679413582.\n",
      "[I 2025-03-27 00:45:24,974] Trial 67 finished with value: 0.24309388330496196 and parameters: {'num_layers_hidden1': 2, 'num_layers_hidden2': 5, 'hidden_dim1': 54, 'hidden_dim2': 180, 'lr': 0.00013896875709070393}. Best is trial 50 with value: 0.06831028679413582.\n",
      "[I 2025-03-27 00:45:26,650] Trial 68 finished with value: 0.07277230750014788 and parameters: {'num_layers_hidden1': 1, 'num_layers_hidden2': 2, 'hidden_dim1': 56, 'hidden_dim2': 196, 'lr': 0.005168500933411143}. Best is trial 50 with value: 0.06831028679413582.\n",
      "[I 2025-03-27 00:45:28,430] Trial 69 finished with value: 0.09247879112071829 and parameters: {'num_layers_hidden1': 1, 'num_layers_hidden2': 3, 'hidden_dim1': 59, 'hidden_dim2': 160, 'lr': 0.0020650727647542116}. Best is trial 50 with value: 0.06831028679413582.\n",
      "[I 2025-03-27 00:45:30,280] Trial 70 finished with value: 0.07510992477951782 and parameters: {'num_layers_hidden1': 1, 'num_layers_hidden2': 2, 'hidden_dim1': 57, 'hidden_dim2': 178, 'lr': 0.0057282721958463005}. Best is trial 50 with value: 0.06831028679413582.\n",
      "[I 2025-03-27 00:45:35,820] Trial 71 finished with value: 0.07439863375191495 and parameters: {'num_layers_hidden1': 1, 'num_layers_hidden2': 2, 'hidden_dim1': 57, 'hidden_dim2': 170, 'lr': 0.004923576918973773}. Best is trial 50 with value: 0.06831028679413582.\n",
      "[I 2025-03-27 00:45:39,166] Trial 72 finished with value: 0.0753438291963992 and parameters: {'num_layers_hidden1': 1, 'num_layers_hidden2': 2, 'hidden_dim1': 52, 'hidden_dim2': 168, 'lr': 0.003986124762015544}. Best is trial 50 with value: 0.06831028679413582.\n",
      "[I 2025-03-27 00:45:41,011] Trial 73 finished with value: 0.06999641040494956 and parameters: {'num_layers_hidden1': 1, 'num_layers_hidden2': 2, 'hidden_dim1': 55, 'hidden_dim2': 204, 'lr': 0.0061464690668586635}. Best is trial 50 with value: 0.06831028679413582.\n",
      "[I 2025-03-27 00:45:43,005] Trial 74 finished with value: 0.06916033077850016 and parameters: {'num_layers_hidden1': 1, 'num_layers_hidden2': 2, 'hidden_dim1': 55, 'hidden_dim2': 202, 'lr': 0.005771781987203388}. Best is trial 50 with value: 0.06831028679413582.\n"
     ]
    }
   ],
   "source": [
    "study = optuna.create_study(direction=\"minimize\")\n",
    "study.optimize(objective, n_trials=100)"
   ]
  },
  {
   "cell_type": "code",
   "execution_count": null,
   "metadata": {},
   "outputs": [],
   "source": [
    "# Print the best hyperparameters\n",
    "print(\"Best number of hidden layers in group 1:\", study.best_params[\"num_layers_hidden1\"])\n",
    "print(\"Best number of hidden layers in group 2:\", study.best_params[\"num_layers_hidden2\"])\n",
    "print(\"Best hidden dimensions: hidden_dim1 =\", study.best_params[\"hidden_dim1\"], \n",
    "\"hidden_dim2 =\", study.best_params[\"hidden_dim2\"])\n",
    "print(\"Best learning rate:\", study.best_params[\"lr\"])"
   ]
  },
  {
   "cell_type": "code",
   "execution_count": null,
   "metadata": {},
   "outputs": [],
   "source": [
    "study.best_value"
   ]
  },
  {
   "cell_type": "code",
   "execution_count": null,
   "metadata": {},
   "outputs": [],
   "source": []
  },
  {
   "cell_type": "code",
   "execution_count": null,
   "metadata": {},
   "outputs": [],
   "source": []
  },
  {
   "cell_type": "code",
   "execution_count": null,
   "metadata": {},
   "outputs": [],
   "source": []
  },
  {
   "cell_type": "code",
   "execution_count": null,
   "metadata": {},
   "outputs": [],
   "source": []
  },
  {
   "cell_type": "code",
   "execution_count": null,
   "metadata": {},
   "outputs": [],
   "source": []
  },
  {
   "cell_type": "code",
   "execution_count": null,
   "metadata": {},
   "outputs": [],
   "source": []
  },
  {
   "cell_type": "code",
   "execution_count": null,
   "metadata": {},
   "outputs": [],
   "source": []
  }
 ],
 "metadata": {
  "kernelspec": {
   "display_name": "venv",
   "language": "python",
   "name": "python3"
  },
  "language_info": {
   "codemirror_mode": {
    "name": "ipython",
    "version": 3
   },
   "file_extension": ".py",
   "mimetype": "text/x-python",
   "name": "python",
   "nbconvert_exporter": "python",
   "pygments_lexer": "ipython3",
   "version": "3.12.3"
  }
 },
 "nbformat": 4,
 "nbformat_minor": 2
}
