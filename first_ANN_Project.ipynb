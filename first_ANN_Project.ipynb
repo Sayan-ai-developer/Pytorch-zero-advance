{
 "cells": [
  {
   "cell_type": "code",
   "execution_count": 1,
   "metadata": {},
   "outputs": [],
   "source": [
    "import torch\n",
    "import torch.nn as nn\n",
    "from torchvision import transforms\n",
    "import torchvision.datasets as datasets\n",
    "from torch.utils.data import DataLoader, Dataset, Subset\n",
    "from torchinfo import summary\n"
   ]
  },
  {
   "cell_type": "code",
   "execution_count": 2,
   "metadata": {},
   "outputs": [],
   "source": [
    "transform = transforms.Compose([\n",
    "    transforms.ToTensor(),\n",
    "])"
   ]
  },
  {
   "cell_type": "code",
   "execution_count": 3,
   "metadata": {},
   "outputs": [],
   "source": [
    "dataset = datasets.FashionMNIST(\n",
    "    root=\"data\",\n",
    "    train=True,\n",
    "    download=True,\n",
    "    transform=transform\n",
    ")"
   ]
  },
  {
   "cell_type": "code",
   "execution_count": 4,
   "metadata": {},
   "outputs": [],
   "source": [
    "subset_indices = list(range(32000))  # First 10,000 samples\n",
    "subset = Subset(dataset, subset_indices)"
   ]
  },
  {
   "cell_type": "code",
   "execution_count": 5,
   "metadata": {},
   "outputs": [],
   "source": [
    "dataloader = DataLoader(subset, batch_size=16, shuffle=True, num_workers=4)"
   ]
  },
  {
   "cell_type": "code",
   "execution_count": 6,
   "metadata": {},
   "outputs": [
    {
     "name": "stdout",
     "output_type": "stream",
     "text": [
      "torch.Size([16, 1, 28, 28])\n",
      "torch.Size([16])\n"
     ]
    }
   ],
   "source": [
    "for x, y in dataloader:\n",
    "    print(x.shape)\n",
    "    print(y.shape)\n",
    "    break"
   ]
  },
  {
   "cell_type": "code",
   "execution_count": 7,
   "metadata": {},
   "outputs": [],
   "source": [
    "class Model(nn.Module):\n",
    "    def __init__(self, num_fetures):\n",
    "        super(Model, self).__init__()\n",
    "        self.architecture = nn.Sequential(\n",
    "            nn.Linear(num_fetures, 128),\n",
    "            nn.ReLU(),\n",
    "            nn.Linear(128, 64),\n",
    "            nn.ReLU(),\n",
    "            nn.Linear(64, 10)\n",
    "        )\n",
    "    \n",
    "    def forward(self, x):\n",
    "        return self.architecture(x)"
   ]
  },
  {
   "cell_type": "code",
   "execution_count": 8,
   "metadata": {},
   "outputs": [
    {
     "data": {
      "text/plain": [
       "==========================================================================================\n",
       "Layer (type:depth-idx)                   Output Shape              Param #\n",
       "==========================================================================================\n",
       "Model                                    [32, 10]                  --\n",
       "├─Sequential: 1-1                        [32, 10]                  --\n",
       "│    └─Linear: 2-1                       [32, 128]                 100,480\n",
       "│    └─ReLU: 2-2                         [32, 128]                 --\n",
       "│    └─Linear: 2-3                       [32, 64]                  8,256\n",
       "│    └─ReLU: 2-4                         [32, 64]                  --\n",
       "│    └─Linear: 2-5                       [32, 10]                  650\n",
       "==========================================================================================\n",
       "Total params: 109,386\n",
       "Trainable params: 109,386\n",
       "Non-trainable params: 0\n",
       "Total mult-adds (Units.MEGABYTES): 3.50\n",
       "==========================================================================================\n",
       "Input size (MB): 0.10\n",
       "Forward/backward pass size (MB): 0.05\n",
       "Params size (MB): 0.44\n",
       "Estimated Total Size (MB): 0.59\n",
       "=========================================================================================="
      ]
     },
     "execution_count": 8,
     "metadata": {},
     "output_type": "execute_result"
    }
   ],
   "source": [
    "model = Model(28*28)\n",
    "summary(model, input_size=(32, 28*28), device='cpu')"
   ]
  },
  {
   "cell_type": "code",
   "execution_count": 9,
   "metadata": {},
   "outputs": [],
   "source": [
    "loss = nn.CrossEntropyLoss()\n",
    "optimizer = torch.optim.Adam(model.parameters(), lr=0.001)"
   ]
  },
  {
   "cell_type": "code",
   "execution_count": 10,
   "metadata": {},
   "outputs": [
    {
     "name": "stdout",
     "output_type": "stream",
     "text": [
      "Epoch: 1, Loss: 0.20664797723293304\n",
      "Epoch: 2, Loss: 0.2782812714576721\n",
      "Epoch: 3, Loss: 0.5583669543266296\n",
      "Epoch: 4, Loss: 0.23579327762126923\n",
      "Epoch: 5, Loss: 0.0799611508846283\n",
      "Epoch: 6, Loss: 0.13393153250217438\n",
      "Epoch: 7, Loss: 0.5386178493499756\n",
      "Epoch: 8, Loss: 0.7153672575950623\n",
      "Epoch: 9, Loss: 0.2215988039970398\n",
      "Epoch: 10, Loss: 0.5621047616004944\n",
      "Epoch: 11, Loss: 0.40200304985046387\n",
      "Epoch: 12, Loss: 0.12228085100650787\n",
      "Epoch: 13, Loss: 0.6429758071899414\n",
      "Epoch: 14, Loss: 0.28159821033477783\n",
      "Epoch: 15, Loss: 0.5115989446640015\n",
      "Epoch: 16, Loss: 0.40377721190452576\n",
      "Epoch: 17, Loss: 0.2825738787651062\n",
      "Epoch: 18, Loss: 0.35609170794487\n",
      "Epoch: 19, Loss: 0.23811422288417816\n",
      "Epoch: 20, Loss: 0.14780987799167633\n",
      "Epoch: 21, Loss: 0.2213563323020935\n",
      "Epoch: 22, Loss: 0.2490115463733673\n",
      "Epoch: 23, Loss: 0.3457556962966919\n",
      "Epoch: 24, Loss: 0.10373054444789886\n",
      "Epoch: 25, Loss: 0.1455027461051941\n",
      "Epoch: 26, Loss: 0.20255503058433533\n",
      "Epoch: 27, Loss: 0.43879804015159607\n",
      "Epoch: 28, Loss: 0.5124512910842896\n",
      "Epoch: 29, Loss: 0.25788623094558716\n",
      "Epoch: 30, Loss: 0.2495894581079483\n",
      "Epoch: 31, Loss: 0.024031084030866623\n",
      "Epoch: 32, Loss: 0.04190933331847191\n",
      "Epoch: 33, Loss: 0.08204647153615952\n",
      "Epoch: 34, Loss: 0.1458130180835724\n",
      "Epoch: 35, Loss: 0.058455049991607666\n",
      "Epoch: 36, Loss: 0.5266066193580627\n",
      "Epoch: 37, Loss: 0.0027614496648311615\n",
      "Epoch: 38, Loss: 0.07414558529853821\n",
      "Epoch: 39, Loss: 0.01951204054057598\n",
      "Epoch: 40, Loss: 0.13948364555835724\n",
      "Epoch: 41, Loss: 0.23856304585933685\n",
      "Epoch: 42, Loss: 0.05743018537759781\n",
      "Epoch: 43, Loss: 0.07918407768011093\n",
      "Epoch: 44, Loss: 0.006188533268868923\n",
      "Epoch: 45, Loss: 0.055534884333610535\n",
      "Epoch: 46, Loss: 0.04322384297847748\n",
      "Epoch: 47, Loss: 0.1263115108013153\n",
      "Epoch: 48, Loss: 0.011243095621466637\n",
      "Epoch: 49, Loss: 0.14070430397987366\n",
      "Epoch: 50, Loss: 0.0007264729356393218\n",
      "Epoch: 51, Loss: 0.007666254881769419\n",
      "Epoch: 52, Loss: 0.3123232424259186\n",
      "Epoch: 53, Loss: 0.09622039645910263\n",
      "Epoch: 54, Loss: 0.001885242760181427\n",
      "Epoch: 55, Loss: 0.020399460569024086\n",
      "Epoch: 56, Loss: 0.05031690374016762\n",
      "Epoch: 57, Loss: 0.23299828171730042\n",
      "Epoch: 58, Loss: 0.005426273215562105\n",
      "Epoch: 59, Loss: 0.2617972493171692\n",
      "Epoch: 60, Loss: 0.12781958281993866\n",
      "Epoch: 61, Loss: 0.020372916013002396\n",
      "Epoch: 62, Loss: 0.13384966552257538\n",
      "Epoch: 63, Loss: 0.003165390808135271\n",
      "Epoch: 64, Loss: 0.0004651143099181354\n",
      "Epoch: 65, Loss: 0.035697419196367264\n",
      "Epoch: 66, Loss: 0.1426774114370346\n",
      "Epoch: 67, Loss: 0.14207950234413147\n",
      "Epoch: 68, Loss: 0.006476576905697584\n",
      "Epoch: 69, Loss: 0.001136413891799748\n",
      "Epoch: 70, Loss: 0.03942041099071503\n",
      "Epoch: 71, Loss: 0.03384420648217201\n",
      "Epoch: 72, Loss: 0.0653257742524147\n",
      "Epoch: 73, Loss: 0.08755691349506378\n",
      "Epoch: 74, Loss: 0.1398068517446518\n",
      "Epoch: 75, Loss: 0.004791012965142727\n",
      "Epoch: 76, Loss: 0.3663069009780884\n",
      "Epoch: 77, Loss: 0.018540792167186737\n",
      "Epoch: 78, Loss: 0.031954575330019\n",
      "Epoch: 79, Loss: 1.2523251825768966e-05\n",
      "Epoch: 80, Loss: 0.10421573370695114\n",
      "Epoch: 81, Loss: 0.022188445553183556\n",
      "Epoch: 82, Loss: 0.028718015179038048\n",
      "Epoch: 83, Loss: 0.05085914209485054\n",
      "Epoch: 84, Loss: 0.008004982955753803\n",
      "Epoch: 85, Loss: 0.08482804149389267\n",
      "Epoch: 86, Loss: 0.004104000050574541\n",
      "Epoch: 87, Loss: 0.17403893172740936\n",
      "Epoch: 88, Loss: 0.10309256613254547\n",
      "Epoch: 89, Loss: 0.012912102974951267\n",
      "Epoch: 90, Loss: 0.003273589303717017\n",
      "Epoch: 91, Loss: 0.000339976220857352\n",
      "Epoch: 92, Loss: 0.0004629443574231118\n",
      "Epoch: 93, Loss: 0.048906754702329636\n",
      "Epoch: 94, Loss: 0.00012982194311916828\n",
      "Epoch: 95, Loss: 0.13532981276512146\n",
      "Epoch: 96, Loss: 0.3474377691745758\n",
      "Epoch: 97, Loss: 0.021738871932029724\n",
      "Epoch: 98, Loss: 0.1247333437204361\n",
      "Epoch: 99, Loss: 0.24763460457324982\n",
      "Epoch: 100, Loss: 0.15429075062274933\n"
     ]
    }
   ],
   "source": [
    "epochs = 100\n",
    "for epoch in range(epochs):\n",
    "    for x, y in dataloader:\n",
    "        x = x.reshape(-1, 28*28)\n",
    "        y_hat = model(x)\n",
    "        l = loss(y_hat, y)\n",
    "        optimizer.zero_grad()\n",
    "        l.backward()\n",
    "        optimizer.step()\n",
    "    print(f'Epoch: {epoch+1}, Loss: {l.item()}')"
   ]
  },
  {
   "cell_type": "code",
   "execution_count": null,
   "metadata": {},
   "outputs": [],
   "source": []
  },
  {
   "cell_type": "code",
   "execution_count": null,
   "metadata": {},
   "outputs": [],
   "source": []
  },
  {
   "cell_type": "code",
   "execution_count": null,
   "metadata": {},
   "outputs": [],
   "source": []
  },
  {
   "cell_type": "code",
   "execution_count": null,
   "metadata": {},
   "outputs": [],
   "source": []
  },
  {
   "cell_type": "code",
   "execution_count": null,
   "metadata": {},
   "outputs": [],
   "source": []
  },
  {
   "cell_type": "code",
   "execution_count": null,
   "metadata": {},
   "outputs": [],
   "source": []
  },
  {
   "cell_type": "code",
   "execution_count": null,
   "metadata": {},
   "outputs": [],
   "source": []
  }
 ],
 "metadata": {
  "kernelspec": {
   "display_name": "venv",
   "language": "python",
   "name": "python3"
  },
  "language_info": {
   "codemirror_mode": {
    "name": "ipython",
    "version": 3
   },
   "file_extension": ".py",
   "mimetype": "text/x-python",
   "name": "python",
   "nbconvert_exporter": "python",
   "pygments_lexer": "ipython3",
   "version": "3.12.3"
  }
 },
 "nbformat": 4,
 "nbformat_minor": 2
}
